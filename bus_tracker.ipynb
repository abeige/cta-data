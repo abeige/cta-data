{
 "cells": [
  {
   "cell_type": "markdown",
   "metadata": {},
   "source": [
    "# Bus Tracker\n",
    "\n",
    "Adam Beigel\n",
    "\n",
    "24 February 2024"
   ]
  },
  {
   "cell_type": "code",
   "execution_count": 4,
   "metadata": {},
   "outputs": [],
   "source": [
    "import requests\n",
    "import os\n",
    "import json\n",
    "from dotenv import load_dotenv"
   ]
  },
  {
   "cell_type": "markdown",
   "metadata": {},
   "source": [
    "### Load API keys"
   ]
  },
  {
   "cell_type": "code",
   "execution_count": 5,
   "metadata": {},
   "outputs": [],
   "source": [
    "load_dotenv()\n",
    "bus_api_key = os.getenv('BUS_API_KEY')\n",
    "train_api_key = os.getenv('TRAIN_API_KEY')"
   ]
  },
  {
   "cell_type": "markdown",
   "metadata": {},
   "source": [
    "## Make Requests\n",
    "\n",
    "### Get Stops\n",
    "Note: the API docs show direction with a space and in the url as `North%20Bound` but that was changed and now it is just one word"
   ]
  },
  {
   "cell_type": "code",
   "execution_count": null,
   "metadata": {},
   "outputs": [],
   "source": [
    "dir_abbrev = {\n",
    "    'nb': 'Northbound',\n",
    "    'sb': 'Southbound',\n",
    "    'eb': 'Eastbound',\n",
    "    'wb': 'Westbound',\n",
    "}\n",
    "\n",
    "def get_stops(route, direction, write_file=False):\n",
    "    url = 'http://ctabustracker.com/bustime/api/v2/getstops'\n",
    "    params = {\n",
    "        'key': bus_api_key,\n",
    "        'rt': route,\n",
    "        'dir': dir_abbrev[direction],\n",
    "        'format': 'json'\n",
    "    }\n",
    "    r = requests.get(url, params=params)\n",
    "\n",
    "    if not write_file:\n",
    "        return r.json()\n",
    "    else:\n",
    "        with open(f'data/bus_stops/{route}{direction}.json', 'w') as outfile:\n",
    "            outfile.write(json.dumps(r.json(), indent=4))"
   ]
  },
  {
   "cell_type": "code",
   "execution_count": null,
   "metadata": {},
   "outputs": [],
   "source": [
    "get_stops(36, 'nb', write_file=True)"
   ]
  },
  {
   "cell_type": "markdown",
   "metadata": {},
   "source": [
    "### Get Predictions"
   ]
  },
  {
   "cell_type": "code",
   "execution_count": 17,
   "metadata": {},
   "outputs": [],
   "source": [
    "def get_predictions(stop_id):\n",
    "    url = 'http://www.ctabustracker.com/bustime/api/v2/getpredictions'\n",
    "    params = {\n",
    "        'key': bus_api_key,\n",
    "        'stpid': stop_id,\n",
    "        'format': 'json'\n",
    "    }\n",
    "    r = requests.get(url, params=params)\n",
    "\n",
    "    # TODO: error handling\n",
    "    return r.json()['bustime-response']['prd']"
   ]
  },
  {
   "cell_type": "code",
   "execution_count": 62,
   "metadata": {},
   "outputs": [
    {
     "data": {
      "text/plain": [
       "{'tmstmp': '20240224 01:14',\n",
       " 'typ': 'A',\n",
       " 'stpnm': 'Halsted & Wrightwood',\n",
       " 'stpid': '5960',\n",
       " 'vid': '7943',\n",
       " 'dstp': 17009,\n",
       " 'rt': '8',\n",
       " 'rtdd': '8',\n",
       " 'rtdir': 'Northbound',\n",
       " 'des': 'Waveland/Broadway',\n",
       " 'prdtm': '20240224 01:30',\n",
       " 'tablockid': '8 -708',\n",
       " 'tatripid': '1078389',\n",
       " 'origtatripno': '251983103',\n",
       " 'dly': False,\n",
       " 'prdctdn': '15',\n",
       " 'zone': ''}"
      ]
     },
     "execution_count": 62,
     "metadata": {},
     "output_type": "execute_result"
    }
   ],
   "source": [
    "preds = get_predictions(5960)\n",
    "preds[0]"
   ]
  },
  {
   "cell_type": "code",
   "execution_count": 63,
   "metadata": {},
   "outputs": [
    {
     "name": "stdout",
     "output_type": "stream",
     "text": [
      "The time is 01:14\n",
      "8 Northbound: Halsted & Wrightwood\n",
      "   15 min (01:30)\n"
     ]
    }
   ],
   "source": [
    "print(f\"The time is {preds[0]['tmstmp'][9:]}\")\n",
    "print(f\"{preds[0]['rt']} {preds[0]['rtdir']}: {preds[0]['stpnm']}\")\n",
    "for p in preds:\n",
    "    print(f\"   {p['prdctdn']} min ({p['prdtm'][9:]})\")"
   ]
  }
 ],
 "metadata": {
  "kernelspec": {
   "display_name": "Python 3",
   "language": "python",
   "name": "python3"
  },
  "language_info": {
   "codemirror_mode": {
    "name": "ipython",
    "version": 3
   },
   "file_extension": ".py",
   "mimetype": "text/x-python",
   "name": "python",
   "nbconvert_exporter": "python",
   "pygments_lexer": "ipython3",
   "version": "3.10.10"
  }
 },
 "nbformat": 4,
 "nbformat_minor": 2
}
