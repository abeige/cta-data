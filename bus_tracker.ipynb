{
 "cells": [
  {
   "cell_type": "markdown",
   "metadata": {},
   "source": [
    "# Bus Tracker\n",
    "\n",
    "Adam Beigel\n",
    "\n",
    "24 February 2024"
   ]
  },
  {
   "cell_type": "code",
   "execution_count": 17,
   "metadata": {},
   "outputs": [],
   "source": [
    "import requests\n",
    "import os\n",
    "import json\n",
    "\n",
    "import pandas as pd\n",
    "from dotenv import load_dotenv"
   ]
  },
  {
   "cell_type": "markdown",
   "metadata": {},
   "source": [
    "### Load API keys"
   ]
  },
  {
   "cell_type": "code",
   "execution_count": 3,
   "metadata": {},
   "outputs": [],
   "source": [
    "load_dotenv()\n",
    "bus_api_key = os.getenv('BUS_API_KEY')\n",
    "train_api_key = os.getenv('TRAIN_API_KEY')"
   ]
  },
  {
   "cell_type": "markdown",
   "metadata": {},
   "source": [
    "## Make Requests\n",
    "\n",
    "### Get Stops\n",
    "Note: the API docs show direction with a space and in the url as `North%20Bound` but that was changed and now it is just one word"
   ]
  },
  {
   "cell_type": "code",
   "execution_count": null,
   "metadata": {},
   "outputs": [],
   "source": [
    "dir_abbrev = {\n",
    "    'nb': 'Northbound',\n",
    "    'sb': 'Southbound',\n",
    "    'eb': 'Eastbound',\n",
    "    'wb': 'Westbound',\n",
    "}\n",
    "\n",
    "def get_stops(route, direction, write_file=False):\n",
    "    url = 'http://ctabustracker.com/bustime/api/v2/getstops'\n",
    "    params = {\n",
    "        'key': bus_api_key,\n",
    "        'rt': route,\n",
    "        'dir': dir_abbrev[direction],\n",
    "        'format': 'json'\n",
    "    }\n",
    "    r = requests.get(url, params=params)\n",
    "\n",
    "    if not write_file:\n",
    "        return r.json()\n",
    "    else:\n",
    "        with open(f'data/bus_stops/{route}{direction}.json', 'w') as outfile:\n",
    "            outfile.write(json.dumps(r.json(), indent=4))"
   ]
  },
  {
   "cell_type": "code",
   "execution_count": null,
   "metadata": {},
   "outputs": [],
   "source": [
    "get_stops(36, 'nb', write_file=False)"
   ]
  },
  {
   "cell_type": "markdown",
   "metadata": {},
   "source": [
    "### Get Predictions"
   ]
  },
  {
   "cell_type": "code",
   "execution_count": 88,
   "metadata": {},
   "outputs": [],
   "source": [
    "def get_predictions(stops: list):\n",
    "    url = 'http://www.ctabustracker.com/bustime/api/v2/getpredictions'\n",
    "    params = {\n",
    "        'key': bus_api_key,\n",
    "        'stpid': ','.join(str(s) for s in stops),\n",
    "        'format': 'json'\n",
    "    }\n",
    "\n",
    "    r = requests.get(url, params=params)\n",
    "    try:\n",
    "        return r.json()['bustime-response']['prd']\n",
    "    except:\n",
    "        return None"
   ]
  },
  {
   "cell_type": "code",
   "execution_count": 89,
   "metadata": {},
   "outputs": [
    {
     "name": "stdout",
     "output_type": "stream",
     "text": [
      "The time is 12:08\n",
      "8 Northbound: Halsted & Wrightwood\n",
      "   8 min (12:17)\n",
      "   15 min (12:24)\n",
      "   26 min (12:34)\n"
     ]
    }
   ],
   "source": [
    "preds = get_predictions([5960])\n",
    "\n",
    "if preds is not None:\n",
    "    print(f\"The time is {preds[0]['tmstmp'][9:]}\")\n",
    "    print(f\"{preds[0]['rt']} {preds[0]['rtdir']}: {preds[0]['stpnm']}\")\n",
    "    for p in preds:\n",
    "        print(f\"   {p['prdctdn']} min ({p['prdtm'][9:]})\")\n",
    "else:\n",
    "    print('No buses arriving in the next 30 minutes.')"
   ]
  },
  {
   "cell_type": "code",
   "execution_count": 90,
   "metadata": {},
   "outputs": [],
   "source": [
    "home_stops = [5960, 5768, 1224, 1836, 1913]\n",
    "preds = get_predictions(home_stops)\n",
    "df = pd.DataFrame.from_dict(preds)\n",
    "# df"
   ]
  },
  {
   "cell_type": "code",
   "execution_count": 91,
   "metadata": {},
   "outputs": [],
   "source": [
    "def print_preds(df):\n",
    "    print(f\"  Route #{df.iloc[0]['rt']}\")\n",
    "    for index, p in df.iterrows():\n",
    "        min = 'min ' if p['prdctdn'] != 'DUE' else ''\n",
    "        print(f\"    {p['prdctdn']} {min}({p['prdtm'][9:]})\")\n",
    "\n",
    "def print_stops(df):\n",
    "    row = df.iloc[0]\n",
    "    print(f\"{row['stpnm']} {row['rtdir']}\")\n",
    "    df.groupby('rt').apply(print_preds)\n",
    "    print()"
   ]
  },
  {
   "cell_type": "code",
   "execution_count": 87,
   "metadata": {},
   "outputs": [
    {
     "name": "stdout",
     "output_type": "stream",
     "text": [
      "The time is 12:07\n",
      "\n",
      "Fullerton & Halsted Westbound\n",
      "  Route #74\n",
      "    6 min (12:14)\n",
      "    18 min (12:25)\n",
      "    29 min (12:37)\n",
      "\n",
      "Clark & Deming Southbound\n",
      "  Route #22\n",
      "    5 min (12:12)\n",
      "    15 min (12:22)\n",
      "    21 min (12:28)\n",
      "  Route #36\n",
      "    9 min (12:17)\n",
      "\n",
      "Clark & Deming Northbound\n",
      "  Route #22\n",
      "    9 min (12:16)\n",
      "    9 min (12:16)\n",
      "  Route #36\n",
      "    3 min (12:11)\n",
      "\n",
      "Halsted & Wrightwood Southbound\n",
      "  Route #8\n",
      "    9 min (12:16)\n",
      "    20 min (12:28)\n",
      "\n",
      "Halsted & Wrightwood Northbound\n",
      "  Route #8\n",
      "    9 min (12:17)\n",
      "    17 min (12:24)\n",
      "    27 min (12:34)\n",
      "\n"
     ]
    },
    {
     "data": {
      "text/html": [
       "<div>\n",
       "<style scoped>\n",
       "    .dataframe tbody tr th:only-of-type {\n",
       "        vertical-align: middle;\n",
       "    }\n",
       "\n",
       "    .dataframe tbody tr th {\n",
       "        vertical-align: top;\n",
       "    }\n",
       "\n",
       "    .dataframe thead th {\n",
       "        text-align: right;\n",
       "    }\n",
       "</style>\n",
       "<table border=\"1\" class=\"dataframe\">\n",
       "  <thead>\n",
       "    <tr style=\"text-align: right;\">\n",
       "      <th></th>\n",
       "    </tr>\n",
       "  </thead>\n",
       "  <tbody>\n",
       "  </tbody>\n",
       "</table>\n",
       "</div>"
      ],
      "text/plain": [
       "Empty DataFrame\n",
       "Columns: []\n",
       "Index: []"
      ]
     },
     "execution_count": 87,
     "metadata": {},
     "output_type": "execute_result"
    }
   ],
   "source": [
    "print(f\"The time is {df.iloc[0]['tmstmp'][9:]}\\n\")\n",
    "df.groupby('stpid').apply(print_stops)"
   ]
  },
  {
   "cell_type": "code",
   "execution_count": null,
   "metadata": {},
   "outputs": [],
   "source": []
  }
 ],
 "metadata": {
  "kernelspec": {
   "display_name": "Python 3",
   "language": "python",
   "name": "python3"
  },
  "language_info": {
   "codemirror_mode": {
    "name": "ipython",
    "version": 3
   },
   "file_extension": ".py",
   "mimetype": "text/x-python",
   "name": "python",
   "nbconvert_exporter": "python",
   "pygments_lexer": "ipython3",
   "version": "3.10.10"
  }
 },
 "nbformat": 4,
 "nbformat_minor": 2
}
