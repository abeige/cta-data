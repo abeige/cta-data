{
 "cells": [
  {
   "cell_type": "markdown",
   "id": "b16749c8",
   "metadata": {},
   "source": [
    "# Exploratory Data Analysis"
   ]
  },
  {
   "cell_type": "markdown",
   "id": "6060dac2",
   "metadata": {},
   "source": [
    "## Imports"
   ]
  },
  {
   "cell_type": "code",
   "execution_count": null,
   "id": "42d61e00",
   "metadata": {},
   "outputs": [],
   "source": [
    "import pandas as pd\n",
    "import matplotlib.pyplot as plt\n",
    "import matplotlib.dates as mdates\n",
    "from matplotlib import ticker"
   ]
  },
  {
   "cell_type": "markdown",
   "id": "e86da308",
   "metadata": {},
   "source": [
    "## Bus Daily Ridership"
   ]
  },
  {
   "cell_type": "markdown",
   "id": "ff27d994",
   "metadata": {},
   "source": [
    "First, open the CSV file and format the dates."
   ]
  },
  {
   "cell_type": "code",
   "execution_count": null,
   "id": "bc547973",
   "metadata": {},
   "outputs": [],
   "source": [
    "df = pd.read_csv(\n",
    "    filepath_or_buffer='data/cta_ridership_bus_daily.csv',\n",
    "    dtype={'route': str, 'date': str, 'daytype': str, 'rides': int}\n",
    ")\n",
    "df['date'] = pd.to_datetime(df['date'], format='%m/%d/%Y')\n",
    "df = df.set_index('date')\n",
    "df.head()"
   ]
  },
  {
   "cell_type": "markdown",
   "id": "bc5961bd",
   "metadata": {},
   "source": [
    "Let's look at summary statistics for rides."
   ]
  },
  {
   "cell_type": "code",
   "execution_count": null,
   "id": "904ac560",
   "metadata": {},
   "outputs": [],
   "source": [
    "df.groupby('daytype').describe()"
   ]
  },
  {
   "cell_type": "code",
   "execution_count": null,
   "id": "056c6346",
   "metadata": {},
   "outputs": [],
   "source": [
    "df.hist('rides')"
   ]
  },
  {
   "cell_type": "markdown",
   "id": "05ec81a7",
   "metadata": {},
   "source": [
    "Next we'll look at a time-series plot."
   ]
  },
  {
   "cell_type": "code",
   "execution_count": null,
   "id": "7d1e3c32",
   "metadata": {},
   "outputs": [],
   "source": [
    "groups = df.groupby(pd.Grouper(freq='M'))\n",
    "\n",
    "fig, ax = plt.subplots()\n",
    "\n",
    "fig.set_figwidth(15)\n",
    "\n",
    "ax.ticklabel_format(style='plain')\n",
    "ax.set_ylim(0, 3.5e7)\n",
    "ax.xaxis.set_major_locator(mdates.YearLocator())\n",
    "ax.xaxis.set_major_formatter(mdates.DateFormatter(\"%Y\"))\n",
    "ax.yaxis.set_major_formatter(ticker.FuncFormatter(lambda x, p: format(int(x), ',')))\n",
    "\n",
    "plt.title('CTA Bus Ridership by Month 2000-2023')\n",
    "plt.xlabel('Date')\n",
    "plt.ylabel('Rides')\n",
    "\n",
    "ax.plot(groups.groups.keys(), groups.sum('rides'))"
   ]
  },
  {
   "cell_type": "markdown",
   "id": "458ba1e3",
   "metadata": {},
   "source": [
    "## Train Daily Ridership"
   ]
  },
  {
   "cell_type": "code",
   "execution_count": null,
   "id": "0fa8f064",
   "metadata": {},
   "outputs": [],
   "source": [
    "df = pd.read_csv(\n",
    "    filepath_or_buffer='data/cta_ridership_train_daily.csv'#,\n",
    "#     dtype={'route': str, 'date': str, 'daytype': str, 'rides': int}\n",
    ")\n",
    "df['date'] = pd.to_datetime(df['date'], format='%m/%d/%Y')\n",
    "df = df.set_index(['date', 'station_id'])\n",
    "df.head()"
   ]
  },
  {
   "cell_type": "code",
   "execution_count": null,
   "id": "91a0e3aa",
   "metadata": {},
   "outputs": [],
   "source": [
    "df = df.reset_index(level='station_id')\n",
    "groups = df.groupby(pd.Grouper(freq='M'))\n",
    "\n",
    "fig, ax = plt.subplots()\n",
    "\n",
    "fig.set_figwidth(15)\n",
    "\n",
    "ax.ticklabel_format(style='plain')\n",
    "ax.set_ylim(0, 2e7)\n",
    "ax.xaxis.set_major_locator(mdates.YearLocator())\n",
    "ax.xaxis.set_major_formatter(mdates.DateFormatter(\"%Y\"))\n",
    "ax.yaxis.set_major_formatter(ticker.FuncFormatter(lambda x, p: format(int(x), ',')))\n",
    "\n",
    "plt.title('CTA Train Ridership by Month 2000-2023')\n",
    "plt.xlabel('Date')\n",
    "plt.ylabel('Rides')\n",
    "\n",
    "ax.plot(groups.groups.keys(), groups.sum('rides'))"
   ]
  }
 ],
 "metadata": {
  "kernelspec": {
   "display_name": "Python 3",
   "language": "python",
   "name": "python3"
  },
  "language_info": {
   "codemirror_mode": {
    "name": "ipython",
    "version": 3
   },
   "file_extension": ".py",
   "mimetype": "text/x-python",
   "name": "python",
   "nbconvert_exporter": "python",
   "pygments_lexer": "ipython3",
   "version": "3.9.12"
  }
 },
 "nbformat": 4,
 "nbformat_minor": 5
}
