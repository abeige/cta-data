{
 "cells": [
  {
   "cell_type": "markdown",
   "metadata": {},
   "source": [
    "# Bus Tracker\n",
    "\n",
    "Adam Beigel\n",
    "\n",
    "24 February 2024"
   ]
  },
  {
   "cell_type": "code",
   "execution_count": 53,
   "metadata": {},
   "outputs": [],
   "source": [
    "import requests\n",
    "import os\n",
    "import json\n",
    "\n",
    "import pandas as pd\n",
    "import numpy as np\n",
    "from dotenv import load_dotenv"
   ]
  },
  {
   "cell_type": "markdown",
   "metadata": {},
   "source": [
    "### Load API keys"
   ]
  },
  {
   "cell_type": "code",
   "execution_count": 3,
   "metadata": {},
   "outputs": [],
   "source": [
    "load_dotenv()\n",
    "bus_api_key = os.getenv('BUS_API_KEY')\n",
    "train_api_key = os.getenv('TRAIN_API_KEY')"
   ]
  },
  {
   "cell_type": "code",
   "execution_count": 189,
   "metadata": {},
   "outputs": [],
   "source": [
    "station = 41220\n",
    "\n",
    "url = 'http://lapi.transitchicago.com/api/1.0/ttarrivals.aspx'\n",
    "params = {\n",
    "    'key': train_api_key,\n",
    "    'mapid': station,\n",
    "    'outputType': 'json'\n",
    "}\n",
    "\n",
    "r = requests.get(url, params=params)"
   ]
  },
  {
   "cell_type": "code",
   "execution_count": 195,
   "metadata": {},
   "outputs": [],
   "source": [
    "# r.json()"
   ]
  },
  {
   "cell_type": "code",
   "execution_count": 191,
   "metadata": {},
   "outputs": [
    {
     "name": "stdout",
     "output_type": "stream",
     "text": [
      "2024-02-25 08:40:42\n"
     ]
    }
   ],
   "source": [
    "curr_tm = r.json()['ctatt']['tmst']\n",
    "curr_tm = pd.to_datetime(curr_tm)\n",
    "print(curr_tm)"
   ]
  },
  {
   "cell_type": "code",
   "execution_count": 192,
   "metadata": {},
   "outputs": [],
   "source": [
    "preds = r.json()['ctatt']['eta']\n",
    "df = pd.DataFrame.from_dict(preds)\n",
    "\n",
    "df['arrT'] = pd.to_datetime(df['arrT'])\n",
    "df['prdtm'] = df['arrT'].dt.strftime('%H:%M')\n",
    "df['prdctdn'] = df['arrT'] - curr_tm\n",
    "df['prdctdn'] = (df['prdctdn'].dt.seconds / 60).astype(np.int64).astype(str)\n",
    "df.loc[df['prdctdn'].astype(int) > 1420, 'prdctdn'] = 'DUE'\n",
    "df['isSch'] = df['isSch'].astype(int)\n",
    "\n",
    "arrivals = df.sort_values(by=['rt', 'destNm', 'arrT']).loc[:, ('rt', 'destNm', 'prdtm', 'prdctdn', 'staNm', 'isSch')]\n",
    "arrivals = arrivals.rename(columns={'destNm':'rtdir', 'staNm':'stpnm'})"
   ]
  },
  {
   "cell_type": "code",
   "execution_count": 193,
   "metadata": {},
   "outputs": [],
   "source": [
    "def print_preds(df):\n",
    "    print(f\"  {df.iloc[0]['rtdir']}\")\n",
    "    for _, p in df.iterrows():\n",
    "        min = 'min ' if p['prdctdn'] != 'DUE' else ''\n",
    "        sch = 'Sch: ' if p['isSch'] == 1 else ''\n",
    "        print(f\"    {sch}{p['prdctdn']} {min}({p['prdtm']})\")\n",
    "\n",
    "def print_route(df):\n",
    "    row = df.iloc[0]\n",
    "    print(f\"{row['rt']}\")\n",
    "    df.groupby('rtdir').apply(print_preds)\n",
    "    print()"
   ]
  },
  {
   "cell_type": "code",
   "execution_count": 194,
   "metadata": {},
   "outputs": [
    {
     "name": "stdout",
     "output_type": "stream",
     "text": [
      "The time is 08:40\n",
      "\n",
      "Brn\n",
      "  Kimball\n",
      "    DUE (08:39)\n",
      "    18 min (08:59)\n",
      "    28 min (09:09)\n",
      "    45 min (09:26)\n",
      "  Loop\n",
      "    7 min (08:48)\n",
      "    Sch: 26 min (09:07)\n",
      "\n",
      "Red\n",
      "  95th/Dan Ryan\n",
      "    8 min (08:49)\n",
      "    Sch: 31 min (09:12)\n",
      "  Howard\n",
      "    15 min (08:55)\n",
      "    36 min (09:16)\n",
      "\n"
     ]
    },
    {
     "data": {
      "text/html": [
       "<div>\n",
       "<style scoped>\n",
       "    .dataframe tbody tr th:only-of-type {\n",
       "        vertical-align: middle;\n",
       "    }\n",
       "\n",
       "    .dataframe tbody tr th {\n",
       "        vertical-align: top;\n",
       "    }\n",
       "\n",
       "    .dataframe thead th {\n",
       "        text-align: right;\n",
       "    }\n",
       "</style>\n",
       "<table border=\"1\" class=\"dataframe\">\n",
       "  <thead>\n",
       "    <tr style=\"text-align: right;\">\n",
       "      <th></th>\n",
       "    </tr>\n",
       "  </thead>\n",
       "  <tbody>\n",
       "  </tbody>\n",
       "</table>\n",
       "</div>"
      ],
      "text/plain": [
       "Empty DataFrame\n",
       "Columns: []\n",
       "Index: []"
      ]
     },
     "execution_count": 194,
     "metadata": {},
     "output_type": "execute_result"
    }
   ],
   "source": [
    "print(f\"The time is {curr_tm.strftime('%H:%M')}\\n\")\n",
    "arrivals.groupby('rt').apply(print_route)"
   ]
  },
  {
   "cell_type": "code",
   "execution_count": null,
   "metadata": {},
   "outputs": [],
   "source": []
  }
 ],
 "metadata": {
  "kernelspec": {
   "display_name": "cta-tracker",
   "language": "python",
   "name": "python3"
  },
  "language_info": {
   "codemirror_mode": {
    "name": "ipython",
    "version": 3
   },
   "file_extension": ".py",
   "mimetype": "text/x-python",
   "name": "python",
   "nbconvert_exporter": "python",
   "pygments_lexer": "ipython3",
   "version": "3.10.10"
  }
 },
 "nbformat": 4,
 "nbformat_minor": 2
}
